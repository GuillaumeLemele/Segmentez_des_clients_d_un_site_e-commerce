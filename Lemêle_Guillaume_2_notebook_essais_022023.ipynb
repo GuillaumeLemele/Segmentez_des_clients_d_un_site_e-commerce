https://colab.research.google.com/drive/1ciC8UMvBrLq911kETV3PmmUvWtmgkYYx?usp=sharing
